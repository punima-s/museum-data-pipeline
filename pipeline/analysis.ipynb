{
 "cells": [
  {
   "cell_type": "markdown",
   "metadata": {},
   "source": [
    "# Museum Analysis\n",
    "\n",
    "This notebook connects to the museum database and conducts simple analysis of the data.\n",
    "\n",
    "## Imports"
   ]
  },
  {
   "cell_type": "code",
   "execution_count": 60,
   "metadata": {},
   "outputs": [],
   "source": [
    "from extract import get_config\n",
    "from pipeline import get_connection, get_cursor"
   ]
  },
  {
   "cell_type": "markdown",
   "metadata": {},
   "source": [
    "## Setup"
   ]
  },
  {
   "cell_type": "code",
   "execution_count": 61,
   "metadata": {},
   "outputs": [],
   "source": [
    "config = get_config()\n",
    "conn = get_connection(config)\n",
    "cur = get_cursor(conn)"
   ]
  },
  {
   "cell_type": "markdown",
   "metadata": {},
   "source": [
    "What exhibition is most frequently visited?"
   ]
  },
  {
   "cell_type": "code",
   "execution_count": 54,
   "metadata": {},
   "outputs": [
    {
     "name": "stdout",
     "output_type": "stream",
     "text": [
      "[['Thunder Lizards', 344], ['Adaptation', 705], ['Cetacean Sensations', 800], ['The Crenshaw Collection', 633], ['Our Polluted World', 793], ['Measureless to Man', 500]]\n"
     ]
    }
   ],
   "source": [
    "sql_query = \"\"\"\n",
    "            SELECT e.exhibition_name, COUNT(*)\n",
    "            FROM (SELECT * FROM rating UNION SELECT * FROM special_requests) AS review\n",
    "            LEFT JOIN exhibitions as e ON e.exhibition_id = review.exhibition_id\n",
    "            GROUP BY exhibition_name;\n",
    "            \"\"\"\n",
    "\n",
    "cur.execute(sql_query)\n",
    "result = cur.fetchall()\n",
    "print(result)"
   ]
  },
  {
   "cell_type": "markdown",
   "metadata": {},
   "source": [
    "By assuming that the number of buttons pressed at the kiosk are by different people,\n",
    "we querying the data from rating and special_requests table, and joining to the exhibition table for the names. The result shows us that can see that Cetacean Sensations has the most amount of data collected from the kiosks so we assume the most frequently visited exhibition is Cetacean Sensations."
   ]
  },
  {
   "cell_type": "markdown",
   "metadata": {},
   "source": [
    "What hour of the day has the most ratings?"
   ]
  },
  {
   "cell_type": "code",
   "execution_count": 55,
   "metadata": {},
   "outputs": [
    {
     "name": "stdout",
     "output_type": "stream",
     "text": [
      "[[Decimal('17'), 1238]]\n"
     ]
    }
   ],
   "source": [
    "sql_query = \"\"\"\n",
    "            SELECT \n",
    "            EXTRACT(HOUR from date) as hour,\n",
    "            COUNT(*) as count\n",
    "            FROM rating\n",
    "            GROUP BY hour\n",
    "            ORDER BY count DESC\n",
    "            LIMIT 1; \n",
    "\n",
    "            \"\"\"\n",
    "\n",
    "cur.execute(sql_query)\n",
    "result = cur.fetchall()\n",
    "print(result)"
   ]
  },
  {
   "cell_type": "markdown",
   "metadata": {},
   "source": [
    "The most ratings collected during 10am hour in a day."
   ]
  },
  {
   "cell_type": "markdown",
   "metadata": {},
   "source": [
    "What is the average rating for each exhibition?"
   ]
  },
  {
   "cell_type": "code",
   "execution_count": 56,
   "metadata": {},
   "outputs": [
    {
     "name": "stdout",
     "output_type": "stream",
     "text": [
      "[['Thunder Lizards', Decimal('2.81')], ['Adaptation', Decimal('1.89')], ['Cetacean Sensations', Decimal('2.41')], ['The Crenshaw Collection', Decimal('1.45')], ['Our Polluted World', Decimal('1.16')], ['Measureless to Man', Decimal('1.86')]]\n"
     ]
    }
   ],
   "source": [
    "sql_query = \"\"\"\n",
    "            SELECT e.exhibition_name, ROUND((AVG(score_id)::numeric),2)\n",
    "            FROM (SELECT * FROM rating UNION SELECT * FROM special_requests) AS review\n",
    "            LEFT JOIN exhibitions as e ON e.exhibition_id = review.exhibition_id\n",
    "            GROUP BY exhibition_name;\n",
    "            \"\"\"\n",
    "cur.execute(sql_query)\n",
    "result = cur.fetchall()\n",
    "print(result)"
   ]
  },
  {
   "cell_type": "markdown",
   "metadata": {},
   "source": [
    "Rounded to 2 decimal place, the average ratings for each exhibitions are:\n",
    "Adaptation: 1.89\n",
    "Cetacean Sensations: 2.67\n",
    "The Crenshaw Collection: 1.38\n",
    "Our Polluted World: 1.19\n",
    "Measureless to Man: 1.86"
   ]
  },
  {
   "cell_type": "markdown",
   "metadata": {},
   "source": [
    "What proportion of all 4+ ratings are given to exhibition 4?"
   ]
  },
  {
   "cell_type": "code",
   "execution_count": 57,
   "metadata": {},
   "outputs": [
    {
     "name": "stdout",
     "output_type": "stream",
     "text": [
      "[[Decimal('11.00')]]\n"
     ]
    }
   ],
   "source": [
    "sub_query = \"\"\"\n",
    "            SELECT exhibition_id, COUNT(*) as total \n",
    "            FROM rating \n",
    "            WHERE score_id >= 4 \n",
    "            GROUP BY exhibition_id\"\"\"\n",
    "\n",
    "sql_query= f\"\"\"\n",
    "           SELECT ROUND((exh_4_total/new_total)*100, 2)\n",
    "           FROM\n",
    "           (SELECT SUM(total) AS new_total,\n",
    "           (SELECT SUM(total) FROM ({sub_query}) WHERE exhibition_id = 4) AS exh_4_total\n",
    "           FROM\n",
    "           ({sub_query}))\n",
    "           ;\n",
    "\n",
    "           \"\"\"\n",
    "\n",
    "cur.execute(sql_query)\n",
    "result = cur.fetchall()\n",
    "print(result)"
   ]
  },
  {
   "cell_type": "markdown",
   "metadata": {},
   "source": [
    "12.89% of all 4+ ratings are given to exhibition 4."
   ]
  },
  {
   "cell_type": "markdown",
   "metadata": {},
   "source": [
    "Are positive ratings more frequent before or after 1pm?"
   ]
  },
  {
   "cell_type": "code",
   "execution_count": 58,
   "metadata": {},
   "outputs": [
    {
     "name": "stdout",
     "output_type": "stream",
     "text": [
      "[[Decimal('0'), 2], [Decimal('2'), 2], [Decimal('3'), 1], [Decimal('4'), 1], [Decimal('5'), 1], [Decimal('6'), 3], [Decimal('8'), 35], [Decimal('9'), 69], [Decimal('10'), 74], [Decimal('11'), 72], [Decimal('12'), 63], [Decimal('13'), 70], [Decimal('14'), 60], [Decimal('15'), 54], [Decimal('16'), 258], [Decimal('17'), 429], [Decimal('18'), 22], [Decimal('20'), 2], [Decimal('21'), 2], [Decimal('23'), 2]]\n"
     ]
    }
   ],
   "source": [
    "sub_query = \"\"\"\n",
    "            SELECT EXTRACT(HOUR FROM date) as hour,\n",
    "            count(*) as total\n",
    "            FROM rating\n",
    "            WHERE score_id >= 3\n",
    "            GROUP BY EXTRACT(HOUR FROM date)\n",
    "            ORDER BY hour ASC;\n",
    "            \"\"\"\n",
    "query = \"\"\"\n",
    "        SELECT SUM(total) as after\n",
    "        FROM\n",
    "        (SELECT EXTRACT(HOUR FROM date) as hour,\n",
    "        count(*) as total\n",
    "        FROM rating\n",
    "        WHERE score_id >= 3\n",
    "        GROUP BY EXTRACT(HOUR FROM date))\n",
    "        WHERE hour >= 13\n",
    "        ;\n",
    "        \"\"\"\n",
    "sql_query = \"\"\"\n",
    "            SELECT SUM(total) as before\n",
    "            FROM\n",
    "            (SELECT EXTRACT(HOUR FROM date) as hour,\n",
    "            count(*) as total\n",
    "            FROM rating\n",
    "            WHERE score_id >= 3\n",
    "            GROUP BY EXTRACT(HOUR FROM date))\n",
    "            WHERE hour < 13\n",
    "            ;\"\"\"\n",
    "cur.execute(sub_query)\n",
    "result = cur.fetchall()\n",
    "print(result)"
   ]
  },
  {
   "cell_type": "code",
   "execution_count": 62,
   "metadata": {},
   "outputs": [
    {
     "name": "stdout",
     "output_type": "stream",
     "text": [
      "[[3642, 1, 4, datetime.datetime(2024, 5, 10, 6, 54, 43)], [3641, 1, 1, datetime.datetime(2024, 5, 10, 6, 42, 52)], [3640, 3, 3, datetime.datetime(2024, 5, 10, 6, 31, 58)], [3639, 3, 1, datetime.datetime(2024, 5, 10, 6, 20, 56)], [3638, 4, 5, datetime.datetime(2024, 5, 10, 6, 9, 54)]]\n"
     ]
    }
   ],
   "source": [
    "cur.execute(\"SELECT * FROM rating ORDER BY rating_id DESC LIMIT 5;\")\n",
    "result = cur.fetchall()\n",
    "print(result)"
   ]
  }
 ],
 "metadata": {
  "kernelspec": {
   "display_name": ".venv",
   "language": "python",
   "name": "python3"
  },
  "language_info": {
   "codemirror_mode": {
    "name": "ipython",
    "version": 3
   },
   "file_extension": ".py",
   "mimetype": "text/x-python",
   "name": "python",
   "nbconvert_exporter": "python",
   "pygments_lexer": "ipython3",
   "version": "3.9.6"
  }
 },
 "nbformat": 4,
 "nbformat_minor": 2
}
